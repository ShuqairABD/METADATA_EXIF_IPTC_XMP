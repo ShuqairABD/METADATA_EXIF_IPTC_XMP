{
  "nbformat": 4,
  "nbformat_minor": 0,
  "metadata": {
    "colab": {
      "provenance": [],
      "collapsed_sections": [
        "nuW83i5mO_1t",
        "OJnqm-PeedRm",
        "0AlwfIjZegwT",
        "8mRyZsH5eqDy"
      ],
      "authorship_tag": "ABX9TyNHHrKdRgcInUxE3QNj/ezX",
      "include_colab_link": true
    },
    "kernelspec": {
      "name": "python3",
      "display_name": "Python 3"
    },
    "language_info": {
      "name": "python"
    },
    "widgets": {
      "application/vnd.jupyter.widget-state+json": {
        "d119f752d3a74f7980179c36b1fa33ea": {
          "model_module": "@jupyter-widgets/controls",
          "model_name": "FileUploadModel",
          "model_module_version": "1.5.0",
          "state": {
            "_counter": 1,
            "_dom_classes": [],
            "_model_module": "@jupyter-widgets/controls",
            "_model_module_version": "1.5.0",
            "_model_name": "FileUploadModel",
            "_view_count": null,
            "_view_module": "@jupyter-widgets/controls",
            "_view_module_version": "1.5.0",
            "_view_name": "FileUploadView",
            "accept": "image/*",
            "button_style": "",
            "data": [
              null
            ],
            "description": "Upload",
            "description_tooltip": null,
            "disabled": false,
            "error": "",
            "icon": "upload",
            "layout": "IPY_MODEL_79605ce2dfc04e359c9d19740a56cb70",
            "metadata": [
              {
                "name": "wint.jpeg",
                "type": "image/jpeg",
                "size": 2794,
                "lastModified": 1708788860000
              }
            ],
            "multiple": false,
            "style": "IPY_MODEL_22b87edd481c479e9e636e8877176b9f"
          }
        },
        "79605ce2dfc04e359c9d19740a56cb70": {
          "model_module": "@jupyter-widgets/base",
          "model_name": "LayoutModel",
          "model_module_version": "1.2.0",
          "state": {
            "_model_module": "@jupyter-widgets/base",
            "_model_module_version": "1.2.0",
            "_model_name": "LayoutModel",
            "_view_count": null,
            "_view_module": "@jupyter-widgets/base",
            "_view_module_version": "1.2.0",
            "_view_name": "LayoutView",
            "align_content": null,
            "align_items": null,
            "align_self": null,
            "border": null,
            "bottom": null,
            "display": null,
            "flex": null,
            "flex_flow": null,
            "grid_area": null,
            "grid_auto_columns": null,
            "grid_auto_flow": null,
            "grid_auto_rows": null,
            "grid_column": null,
            "grid_gap": null,
            "grid_row": null,
            "grid_template_areas": null,
            "grid_template_columns": null,
            "grid_template_rows": null,
            "height": null,
            "justify_content": null,
            "justify_items": null,
            "left": null,
            "margin": null,
            "max_height": null,
            "max_width": null,
            "min_height": null,
            "min_width": null,
            "object_fit": null,
            "object_position": null,
            "order": null,
            "overflow": null,
            "overflow_x": null,
            "overflow_y": null,
            "padding": null,
            "right": null,
            "top": null,
            "visibility": null,
            "width": null
          }
        },
        "22b87edd481c479e9e636e8877176b9f": {
          "model_module": "@jupyter-widgets/controls",
          "model_name": "ButtonStyleModel",
          "model_module_version": "1.5.0",
          "state": {
            "_model_module": "@jupyter-widgets/controls",
            "_model_module_version": "1.5.0",
            "_model_name": "ButtonStyleModel",
            "_view_count": null,
            "_view_module": "@jupyter-widgets/base",
            "_view_module_version": "1.2.0",
            "_view_name": "StyleView",
            "button_color": null,
            "font_weight": ""
          }
        },
        "77ade9a4c6c7409fbc2e9e0a7849839f": {
          "model_module": "@jupyter-widgets/controls",
          "model_name": "DropdownModel",
          "model_module_version": "1.5.0",
          "state": {
            "_dom_classes": [],
            "_model_module": "@jupyter-widgets/controls",
            "_model_module_version": "1.5.0",
            "_model_name": "DropdownModel",
            "_options_labels": [
              "All",
              "XMP",
              "EXIF",
              "IPTC"
            ],
            "_view_count": null,
            "_view_module": "@jupyter-widgets/controls",
            "_view_module_version": "1.5.0",
            "_view_name": "DropdownView",
            "description": "Метод:",
            "description_tooltip": null,
            "disabled": false,
            "index": 0,
            "layout": "IPY_MODEL_902dc5bf411945efb33d7b42c5f3f801",
            "style": "IPY_MODEL_288ef6aa3a9744919ed96e8f4c8bafcd"
          }
        },
        "902dc5bf411945efb33d7b42c5f3f801": {
          "model_module": "@jupyter-widgets/base",
          "model_name": "LayoutModel",
          "model_module_version": "1.2.0",
          "state": {
            "_model_module": "@jupyter-widgets/base",
            "_model_module_version": "1.2.0",
            "_model_name": "LayoutModel",
            "_view_count": null,
            "_view_module": "@jupyter-widgets/base",
            "_view_module_version": "1.2.0",
            "_view_name": "LayoutView",
            "align_content": null,
            "align_items": null,
            "align_self": null,
            "border": null,
            "bottom": null,
            "display": null,
            "flex": null,
            "flex_flow": null,
            "grid_area": null,
            "grid_auto_columns": null,
            "grid_auto_flow": null,
            "grid_auto_rows": null,
            "grid_column": null,
            "grid_gap": null,
            "grid_row": null,
            "grid_template_areas": null,
            "grid_template_columns": null,
            "grid_template_rows": null,
            "height": null,
            "justify_content": null,
            "justify_items": null,
            "left": null,
            "margin": null,
            "max_height": null,
            "max_width": null,
            "min_height": null,
            "min_width": null,
            "object_fit": null,
            "object_position": null,
            "order": null,
            "overflow": null,
            "overflow_x": null,
            "overflow_y": null,
            "padding": null,
            "right": null,
            "top": null,
            "visibility": null,
            "width": null
          }
        },
        "288ef6aa3a9744919ed96e8f4c8bafcd": {
          "model_module": "@jupyter-widgets/controls",
          "model_name": "DescriptionStyleModel",
          "model_module_version": "1.5.0",
          "state": {
            "_model_module": "@jupyter-widgets/controls",
            "_model_module_version": "1.5.0",
            "_model_name": "DescriptionStyleModel",
            "_view_count": null,
            "_view_module": "@jupyter-widgets/base",
            "_view_module_version": "1.2.0",
            "_view_name": "StyleView",
            "description_width": ""
          }
        },
        "71c4edc854a94ef885f4bf165cf9282c": {
          "model_module": "@jupyter-widgets/controls",
          "model_name": "TextModel",
          "model_module_version": "1.5.0",
          "state": {
            "_dom_classes": [],
            "_model_module": "@jupyter-widgets/controls",
            "_model_module_version": "1.5.0",
            "_model_name": "TextModel",
            "_view_count": null,
            "_view_module": "@jupyter-widgets/controls",
            "_view_module_version": "1.5.0",
            "_view_name": "TextView",
            "continuous_update": true,
            "description": "Ключевые слова:",
            "description_tooltip": null,
            "disabled": false,
            "layout": "IPY_MODEL_c308e64dc99b4c0f8b4a4fe189ef5ca6",
            "placeholder": "​",
            "style": "IPY_MODEL_729e2f9124f941df902fcfacd692b7d1",
            "value": "зима"
          }
        },
        "c308e64dc99b4c0f8b4a4fe189ef5ca6": {
          "model_module": "@jupyter-widgets/base",
          "model_name": "LayoutModel",
          "model_module_version": "1.2.0",
          "state": {
            "_model_module": "@jupyter-widgets/base",
            "_model_module_version": "1.2.0",
            "_model_name": "LayoutModel",
            "_view_count": null,
            "_view_module": "@jupyter-widgets/base",
            "_view_module_version": "1.2.0",
            "_view_name": "LayoutView",
            "align_content": null,
            "align_items": null,
            "align_self": null,
            "border": null,
            "bottom": null,
            "display": null,
            "flex": null,
            "flex_flow": null,
            "grid_area": null,
            "grid_auto_columns": null,
            "grid_auto_flow": null,
            "grid_auto_rows": null,
            "grid_column": null,
            "grid_gap": null,
            "grid_row": null,
            "grid_template_areas": null,
            "grid_template_columns": null,
            "grid_template_rows": null,
            "height": null,
            "justify_content": null,
            "justify_items": null,
            "left": null,
            "margin": null,
            "max_height": null,
            "max_width": null,
            "min_height": null,
            "min_width": null,
            "object_fit": null,
            "object_position": null,
            "order": null,
            "overflow": null,
            "overflow_x": null,
            "overflow_y": null,
            "padding": null,
            "right": null,
            "top": null,
            "visibility": null,
            "width": null
          }
        },
        "729e2f9124f941df902fcfacd692b7d1": {
          "model_module": "@jupyter-widgets/controls",
          "model_name": "DescriptionStyleModel",
          "model_module_version": "1.5.0",
          "state": {
            "_model_module": "@jupyter-widgets/controls",
            "_model_module_version": "1.5.0",
            "_model_name": "DescriptionStyleModel",
            "_view_count": null,
            "_view_module": "@jupyter-widgets/base",
            "_view_module_version": "1.2.0",
            "_view_name": "StyleView",
            "description_width": ""
          }
        },
        "7dc6b54c7d2a44e3acf8549570866be9": {
          "model_module": "@jupyter-widgets/controls",
          "model_name": "ButtonModel",
          "model_module_version": "1.5.0",
          "state": {
            "_dom_classes": [],
            "_model_module": "@jupyter-widgets/controls",
            "_model_module_version": "1.5.0",
            "_model_name": "ButtonModel",
            "_view_count": null,
            "_view_module": "@jupyter-widgets/controls",
            "_view_module_version": "1.5.0",
            "_view_name": "ButtonView",
            "button_style": "",
            "description": "Добавить ключевые слова",
            "disabled": false,
            "icon": "",
            "layout": "IPY_MODEL_f4dba211f37a49d18f16299b278af867",
            "style": "IPY_MODEL_48f6f0556a3748c0bb0b65a5c332a984",
            "tooltip": ""
          }
        },
        "f4dba211f37a49d18f16299b278af867": {
          "model_module": "@jupyter-widgets/base",
          "model_name": "LayoutModel",
          "model_module_version": "1.2.0",
          "state": {
            "_model_module": "@jupyter-widgets/base",
            "_model_module_version": "1.2.0",
            "_model_name": "LayoutModel",
            "_view_count": null,
            "_view_module": "@jupyter-widgets/base",
            "_view_module_version": "1.2.0",
            "_view_name": "LayoutView",
            "align_content": null,
            "align_items": null,
            "align_self": null,
            "border": null,
            "bottom": null,
            "display": null,
            "flex": null,
            "flex_flow": null,
            "grid_area": null,
            "grid_auto_columns": null,
            "grid_auto_flow": null,
            "grid_auto_rows": null,
            "grid_column": null,
            "grid_gap": null,
            "grid_row": null,
            "grid_template_areas": null,
            "grid_template_columns": null,
            "grid_template_rows": null,
            "height": null,
            "justify_content": null,
            "justify_items": null,
            "left": null,
            "margin": null,
            "max_height": null,
            "max_width": null,
            "min_height": null,
            "min_width": null,
            "object_fit": null,
            "object_position": null,
            "order": null,
            "overflow": null,
            "overflow_x": null,
            "overflow_y": null,
            "padding": null,
            "right": null,
            "top": null,
            "visibility": null,
            "width": null
          }
        },
        "48f6f0556a3748c0bb0b65a5c332a984": {
          "model_module": "@jupyter-widgets/controls",
          "model_name": "ButtonStyleModel",
          "model_module_version": "1.5.0",
          "state": {
            "_model_module": "@jupyter-widgets/controls",
            "_model_module_version": "1.5.0",
            "_model_name": "ButtonStyleModel",
            "_view_count": null,
            "_view_module": "@jupyter-widgets/base",
            "_view_module_version": "1.2.0",
            "_view_name": "StyleView",
            "button_color": null,
            "font_weight": ""
          }
        },
        "fc04820a6f4a43e78d5d70cf904b7d49": {
          "model_module": "@jupyter-widgets/output",
          "model_name": "OutputModel",
          "model_module_version": "1.0.0",
          "state": {
            "_dom_classes": [],
            "_model_module": "@jupyter-widgets/output",
            "_model_module_version": "1.0.0",
            "_model_name": "OutputModel",
            "_view_count": null,
            "_view_module": "@jupyter-widgets/output",
            "_view_module_version": "1.0.0",
            "_view_name": "OutputView",
            "layout": "IPY_MODEL_43ebeaa4d7dc4e56a76fea5355ca174f",
            "msg_id": "",
            "outputs": [
              {
                "output_type": "stream",
                "name": "stderr",
                "text": [
                  "WARNING:iptcinfo:Marker scan hit start of image data\n"
                ]
              },
              {
                "output_type": "stream",
                "name": "stderr",
                "text": [
                  "WARNING:iptcinfo:No IPTC data found in wint.jpeg\n"
                ]
              },
              {
                "output_type": "stream",
                "name": "stdout",
                "text": [
                  "Ключевое слово 'зима' добавлено к метаданным XMP wint.jpeg\n",
                  "Ключевые слова '['зима']' добавлены к метаданным EXIF.\n",
                  "Ключевые слова '['зима']' добавлены к метаданным IPTC.\n"
                ]
              }
            ]
          }
        },
        "43ebeaa4d7dc4e56a76fea5355ca174f": {
          "model_module": "@jupyter-widgets/base",
          "model_name": "LayoutModel",
          "model_module_version": "1.2.0",
          "state": {
            "_model_module": "@jupyter-widgets/base",
            "_model_module_version": "1.2.0",
            "_model_name": "LayoutModel",
            "_view_count": null,
            "_view_module": "@jupyter-widgets/base",
            "_view_module_version": "1.2.0",
            "_view_name": "LayoutView",
            "align_content": null,
            "align_items": null,
            "align_self": null,
            "border": null,
            "bottom": null,
            "display": null,
            "flex": null,
            "flex_flow": null,
            "grid_area": null,
            "grid_auto_columns": null,
            "grid_auto_flow": null,
            "grid_auto_rows": null,
            "grid_column": null,
            "grid_gap": null,
            "grid_row": null,
            "grid_template_areas": null,
            "grid_template_columns": null,
            "grid_template_rows": null,
            "height": null,
            "justify_content": null,
            "justify_items": null,
            "left": null,
            "margin": null,
            "max_height": null,
            "max_width": null,
            "min_height": null,
            "min_width": null,
            "object_fit": null,
            "object_position": null,
            "order": null,
            "overflow": null,
            "overflow_x": null,
            "overflow_y": null,
            "padding": null,
            "right": null,
            "top": null,
            "visibility": null,
            "width": null
          }
        },
        "326e0b3f0551451c9041eac6fd17f1ad": {
          "model_module": "@jupyter-widgets/controls",
          "model_name": "TextModel",
          "model_module_version": "1.5.0",
          "state": {
            "_dom_classes": [],
            "_model_module": "@jupyter-widgets/controls",
            "_model_module_version": "1.5.0",
            "_model_name": "TextModel",
            "_view_count": null,
            "_view_module": "@jupyter-widgets/controls",
            "_view_module_version": "1.5.0",
            "_view_name": "TextView",
            "continuous_update": true,
            "description": "Путь к папке:",
            "description_tooltip": null,
            "disabled": false,
            "layout": "IPY_MODEL_1a3a4ef17cd04999bc05d7a6da9212e8",
            "placeholder": "​",
            "style": "IPY_MODEL_197269e06b714833a1bbefdecbe28cb8",
            "value": "/content/test"
          }
        },
        "1a3a4ef17cd04999bc05d7a6da9212e8": {
          "model_module": "@jupyter-widgets/base",
          "model_name": "LayoutModel",
          "model_module_version": "1.2.0",
          "state": {
            "_model_module": "@jupyter-widgets/base",
            "_model_module_version": "1.2.0",
            "_model_name": "LayoutModel",
            "_view_count": null,
            "_view_module": "@jupyter-widgets/base",
            "_view_module_version": "1.2.0",
            "_view_name": "LayoutView",
            "align_content": null,
            "align_items": null,
            "align_self": null,
            "border": null,
            "bottom": null,
            "display": null,
            "flex": null,
            "flex_flow": null,
            "grid_area": null,
            "grid_auto_columns": null,
            "grid_auto_flow": null,
            "grid_auto_rows": null,
            "grid_column": null,
            "grid_gap": null,
            "grid_row": null,
            "grid_template_areas": null,
            "grid_template_columns": null,
            "grid_template_rows": null,
            "height": null,
            "justify_content": null,
            "justify_items": null,
            "left": null,
            "margin": null,
            "max_height": null,
            "max_width": null,
            "min_height": null,
            "min_width": null,
            "object_fit": null,
            "object_position": null,
            "order": null,
            "overflow": null,
            "overflow_x": null,
            "overflow_y": null,
            "padding": null,
            "right": null,
            "top": null,
            "visibility": null,
            "width": null
          }
        },
        "197269e06b714833a1bbefdecbe28cb8": {
          "model_module": "@jupyter-widgets/controls",
          "model_name": "DescriptionStyleModel",
          "model_module_version": "1.5.0",
          "state": {
            "_model_module": "@jupyter-widgets/controls",
            "_model_module_version": "1.5.0",
            "_model_name": "DescriptionStyleModel",
            "_view_count": null,
            "_view_module": "@jupyter-widgets/base",
            "_view_module_version": "1.2.0",
            "_view_name": "StyleView",
            "description_width": ""
          }
        },
        "9bfb1bb2ea9041e28ec68cd747fd5bd7": {
          "model_module": "@jupyter-widgets/controls",
          "model_name": "DropdownModel",
          "model_module_version": "1.5.0",
          "state": {
            "_dom_classes": [],
            "_model_module": "@jupyter-widgets/controls",
            "_model_module_version": "1.5.0",
            "_model_name": "DropdownModel",
            "_options_labels": [
              "All",
              "XMP",
              "EXIF",
              "IPTC"
            ],
            "_view_count": null,
            "_view_module": "@jupyter-widgets/controls",
            "_view_module_version": "1.5.0",
            "_view_name": "DropdownView",
            "description": "Метод:",
            "description_tooltip": null,
            "disabled": false,
            "index": 0,
            "layout": "IPY_MODEL_ea3de11c3bda4569bd6522423c1504d7",
            "style": "IPY_MODEL_9ea4d152f9ba4f11b69a870f973540c0"
          }
        },
        "ea3de11c3bda4569bd6522423c1504d7": {
          "model_module": "@jupyter-widgets/base",
          "model_name": "LayoutModel",
          "model_module_version": "1.2.0",
          "state": {
            "_model_module": "@jupyter-widgets/base",
            "_model_module_version": "1.2.0",
            "_model_name": "LayoutModel",
            "_view_count": null,
            "_view_module": "@jupyter-widgets/base",
            "_view_module_version": "1.2.0",
            "_view_name": "LayoutView",
            "align_content": null,
            "align_items": null,
            "align_self": null,
            "border": null,
            "bottom": null,
            "display": null,
            "flex": null,
            "flex_flow": null,
            "grid_area": null,
            "grid_auto_columns": null,
            "grid_auto_flow": null,
            "grid_auto_rows": null,
            "grid_column": null,
            "grid_gap": null,
            "grid_row": null,
            "grid_template_areas": null,
            "grid_template_columns": null,
            "grid_template_rows": null,
            "height": null,
            "justify_content": null,
            "justify_items": null,
            "left": null,
            "margin": null,
            "max_height": null,
            "max_width": null,
            "min_height": null,
            "min_width": null,
            "object_fit": null,
            "object_position": null,
            "order": null,
            "overflow": null,
            "overflow_x": null,
            "overflow_y": null,
            "padding": null,
            "right": null,
            "top": null,
            "visibility": null,
            "width": null
          }
        },
        "9ea4d152f9ba4f11b69a870f973540c0": {
          "model_module": "@jupyter-widgets/controls",
          "model_name": "DescriptionStyleModel",
          "model_module_version": "1.5.0",
          "state": {
            "_model_module": "@jupyter-widgets/controls",
            "_model_module_version": "1.5.0",
            "_model_name": "DescriptionStyleModel",
            "_view_count": null,
            "_view_module": "@jupyter-widgets/base",
            "_view_module_version": "1.2.0",
            "_view_name": "StyleView",
            "description_width": ""
          }
        },
        "5f2c98bcd04048d8acd5ff4bfed09164": {
          "model_module": "@jupyter-widgets/controls",
          "model_name": "TextModel",
          "model_module_version": "1.5.0",
          "state": {
            "_dom_classes": [],
            "_model_module": "@jupyter-widgets/controls",
            "_model_module_version": "1.5.0",
            "_model_name": "TextModel",
            "_view_count": null,
            "_view_module": "@jupyter-widgets/controls",
            "_view_module_version": "1.5.0",
            "_view_name": "TextView",
            "continuous_update": true,
            "description": "Ключевые слова:",
            "description_tooltip": null,
            "disabled": false,
            "layout": "IPY_MODEL_9c0c67b83c69443ea587fe752a99c43b",
            "placeholder": "​",
            "style": "IPY_MODEL_af98ae20d2c2495d8c5b6386eb4fad26",
            "value": "тест zip папка"
          }
        },
        "9c0c67b83c69443ea587fe752a99c43b": {
          "model_module": "@jupyter-widgets/base",
          "model_name": "LayoutModel",
          "model_module_version": "1.2.0",
          "state": {
            "_model_module": "@jupyter-widgets/base",
            "_model_module_version": "1.2.0",
            "_model_name": "LayoutModel",
            "_view_count": null,
            "_view_module": "@jupyter-widgets/base",
            "_view_module_version": "1.2.0",
            "_view_name": "LayoutView",
            "align_content": null,
            "align_items": null,
            "align_self": null,
            "border": null,
            "bottom": null,
            "display": null,
            "flex": null,
            "flex_flow": null,
            "grid_area": null,
            "grid_auto_columns": null,
            "grid_auto_flow": null,
            "grid_auto_rows": null,
            "grid_column": null,
            "grid_gap": null,
            "grid_row": null,
            "grid_template_areas": null,
            "grid_template_columns": null,
            "grid_template_rows": null,
            "height": null,
            "justify_content": null,
            "justify_items": null,
            "left": null,
            "margin": null,
            "max_height": null,
            "max_width": null,
            "min_height": null,
            "min_width": null,
            "object_fit": null,
            "object_position": null,
            "order": null,
            "overflow": null,
            "overflow_x": null,
            "overflow_y": null,
            "padding": null,
            "right": null,
            "top": null,
            "visibility": null,
            "width": null
          }
        },
        "af98ae20d2c2495d8c5b6386eb4fad26": {
          "model_module": "@jupyter-widgets/controls",
          "model_name": "DescriptionStyleModel",
          "model_module_version": "1.5.0",
          "state": {
            "_model_module": "@jupyter-widgets/controls",
            "_model_module_version": "1.5.0",
            "_model_name": "DescriptionStyleModel",
            "_view_count": null,
            "_view_module": "@jupyter-widgets/base",
            "_view_module_version": "1.2.0",
            "_view_name": "StyleView",
            "description_width": ""
          }
        },
        "ec300e19966b4849a368995b424f18e8": {
          "model_module": "@jupyter-widgets/controls",
          "model_name": "ButtonModel",
          "model_module_version": "1.5.0",
          "state": {
            "_dom_classes": [],
            "_model_module": "@jupyter-widgets/controls",
            "_model_module_version": "1.5.0",
            "_model_name": "ButtonModel",
            "_view_count": null,
            "_view_module": "@jupyter-widgets/controls",
            "_view_module_version": "1.5.0",
            "_view_name": "ButtonView",
            "button_style": "",
            "description": "Добавить ключевые слова",
            "disabled": false,
            "icon": "",
            "layout": "IPY_MODEL_cf5db09418b84691a5adfb5af9c9e37d",
            "style": "IPY_MODEL_3f5509882cbd42078e9a89e5ec7a44cc",
            "tooltip": ""
          }
        },
        "cf5db09418b84691a5adfb5af9c9e37d": {
          "model_module": "@jupyter-widgets/base",
          "model_name": "LayoutModel",
          "model_module_version": "1.2.0",
          "state": {
            "_model_module": "@jupyter-widgets/base",
            "_model_module_version": "1.2.0",
            "_model_name": "LayoutModel",
            "_view_count": null,
            "_view_module": "@jupyter-widgets/base",
            "_view_module_version": "1.2.0",
            "_view_name": "LayoutView",
            "align_content": null,
            "align_items": null,
            "align_self": null,
            "border": null,
            "bottom": null,
            "display": null,
            "flex": null,
            "flex_flow": null,
            "grid_area": null,
            "grid_auto_columns": null,
            "grid_auto_flow": null,
            "grid_auto_rows": null,
            "grid_column": null,
            "grid_gap": null,
            "grid_row": null,
            "grid_template_areas": null,
            "grid_template_columns": null,
            "grid_template_rows": null,
            "height": null,
            "justify_content": null,
            "justify_items": null,
            "left": null,
            "margin": null,
            "max_height": null,
            "max_width": null,
            "min_height": null,
            "min_width": null,
            "object_fit": null,
            "object_position": null,
            "order": null,
            "overflow": null,
            "overflow_x": null,
            "overflow_y": null,
            "padding": null,
            "right": null,
            "top": null,
            "visibility": null,
            "width": null
          }
        },
        "3f5509882cbd42078e9a89e5ec7a44cc": {
          "model_module": "@jupyter-widgets/controls",
          "model_name": "ButtonStyleModel",
          "model_module_version": "1.5.0",
          "state": {
            "_model_module": "@jupyter-widgets/controls",
            "_model_module_version": "1.5.0",
            "_model_name": "ButtonStyleModel",
            "_view_count": null,
            "_view_module": "@jupyter-widgets/base",
            "_view_module_version": "1.2.0",
            "_view_name": "StyleView",
            "button_color": null,
            "font_weight": ""
          }
        },
        "56581985637c46aebaf14f4ea4d218db": {
          "model_module": "@jupyter-widgets/output",
          "model_name": "OutputModel",
          "model_module_version": "1.0.0",
          "state": {
            "_dom_classes": [],
            "_model_module": "@jupyter-widgets/output",
            "_model_module_version": "1.0.0",
            "_model_name": "OutputModel",
            "_view_count": null,
            "_view_module": "@jupyter-widgets/output",
            "_view_module_version": "1.0.0",
            "_view_name": "OutputView",
            "layout": "IPY_MODEL_7dc7bc1d00f24dd4bfeacd88d44158de",
            "msg_id": "",
            "outputs": [
              {
                "output_type": "stream",
                "name": "stdout",
                "text": [
                  "Ключевое слово 'тест zip папка' добавлено к метаданным XMP /content/test/tagged/sum.jpeg\n",
                  "Ключевые слова '['тест zip папка']' добавлены к метаданным EXIF.\n",
                  "Ключевые слова '['тест zip папка']' добавлены к метаданным IPTC.\n",
                  "Обработка завершена. Обработано 1 изображений.\n",
                  "Файлы сохранены в архив: /content/test/tagged_images.zip\n"
                ]
              }
            ]
          }
        },
        "7dc7bc1d00f24dd4bfeacd88d44158de": {
          "model_module": "@jupyter-widgets/base",
          "model_name": "LayoutModel",
          "model_module_version": "1.2.0",
          "state": {
            "_model_module": "@jupyter-widgets/base",
            "_model_module_version": "1.2.0",
            "_model_name": "LayoutModel",
            "_view_count": null,
            "_view_module": "@jupyter-widgets/base",
            "_view_module_version": "1.2.0",
            "_view_name": "LayoutView",
            "align_content": null,
            "align_items": null,
            "align_self": null,
            "border": null,
            "bottom": null,
            "display": null,
            "flex": null,
            "flex_flow": null,
            "grid_area": null,
            "grid_auto_columns": null,
            "grid_auto_flow": null,
            "grid_auto_rows": null,
            "grid_column": null,
            "grid_gap": null,
            "grid_row": null,
            "grid_template_areas": null,
            "grid_template_columns": null,
            "grid_template_rows": null,
            "height": null,
            "justify_content": null,
            "justify_items": null,
            "left": null,
            "margin": null,
            "max_height": null,
            "max_width": null,
            "min_height": null,
            "min_width": null,
            "object_fit": null,
            "object_position": null,
            "order": null,
            "overflow": null,
            "overflow_x": null,
            "overflow_y": null,
            "padding": null,
            "right": null,
            "top": null,
            "visibility": null,
            "width": null
          }
        }
      }
    }
  },
  "cells": [
    {
      "cell_type": "markdown",
      "metadata": {
        "id": "view-in-github",
        "colab_type": "text"
      },
      "source": [
        "<a href=\"https://colab.research.google.com/github/ShuqairABD/METADATA_EXIF_IPTC_XMP/blob/main/%D0%9C%D0%B5%D1%82%D0%BE%D0%B4%D1%8B_%D0%A2%D0%B5%D0%B3%D0%B8%D1%80%D0%BE%D0%B2%D0%B0%D0%BD%D0%B8%D1%8F_(Metadata)_EXIF_IPTC_XMP.ipynb\" target=\"_parent\"><img src=\"https://colab.research.google.com/assets/colab-badge.svg\" alt=\"Open In Colab\"/></a>"
      ]
    },
    {
      "cell_type": "markdown",
      "source": [
        "# **start !pip / Libraries**"
      ],
      "metadata": {
        "id": "nuW83i5mO_1t"
      }
    },
    {
      "cell_type": "code",
      "source": [
        "!pip install xmp\n",
        "!pip install exif\n",
        "!pip install python-xmp-toolkit\n",
        "!pip install pyexiv2\n",
        "!pip install piexif\n",
        "!apt-get install -y exiftool\n",
        "!pip install iptcinfo3"
      ],
      "metadata": {
        "id": "YNEzrsf-iDXn"
      },
      "execution_count": null,
      "outputs": []
    },
    {
      "cell_type": "code",
      "source": [
        "import os\n",
        "import shutil\n",
        "from google.colab import files\n",
        "import ipywidgets as widgets\n",
        "from ipywidgets import interact, interactive, fixed, interact_manual\n",
        "from time import sleep\n",
        "from ipywidgets import interact_manual, Dropdown, Text\n",
        "from ipywidgets import Text, Dropdown, Button, widgets\n",
        "from iptcinfo3 import IPTCInfo\n",
        "import piexif\n",
        "from zipfile import ZipFile\n",
        "from IPython.display import display, clear_output\n",
        "import zipfile\n",
        "\n",
        "# from IPython.display import display\n",
        "# from IPython.display import clear_output"
      ],
      "metadata": {
        "id": "c3vy0v0n8ZjB"
      },
      "execution_count": 2,
      "outputs": []
    },
    {
      "cell_type": "markdown",
      "source": [
        "# **Модель**"
      ],
      "metadata": {
        "id": "OJnqm-PeedRm"
      }
    },
    {
      "cell_type": "markdown",
      "source": [
        "### **для одного фото**"
      ],
      "metadata": {
        "id": "0AlwfIjZegwT"
      }
    },
    {
      "cell_type": "code",
      "source": [
        "def add_keyword_xmp(image_path, keyword_list):\n",
        "    try:\n",
        "        for keyword in keyword_list:\n",
        "            os.system(f'exiftool -XMP:Subject+=\"{keyword}\" \"{image_path}\"')\n",
        "            print(f\"Ключевое слово '{keyword}' добавлено к метаданным XMP {image_path}\")\n",
        "    except Exception as e:\n",
        "        print(f\"Ошибка при добавлении ключевого слова к метаданным XMP {image_path}: {str(e)}\")\n",
        "\n",
        "def add_keywords_to_image_exif(image_path, keywords):\n",
        "    try:\n",
        "        exif_dict = piexif.load(image_path)\n",
        "        existing_keywords = exif_dict[\"Exif\"].get(piexif.ExifIFD.UserComment, b\"\").decode()\n",
        "        existing_keywords_list = existing_keywords.split(\",\") if existing_keywords else ['ASCII    ']\n",
        "        existing_keywords_list.extend(keywords)\n",
        "        keyword_str = ''.join(existing_keywords_list[0]) + \",\".join(existing_keywords_list[1:])\n",
        "        exif_ifd = {piexif.ExifIFD.UserComment: f'{keyword_str}'.encode()}\n",
        "        exif_dict = {\"0th\": {}, \"Exif\": exif_ifd, \"1st\": {}, \"thumbnail\": None, \"GPS\": {}}\n",
        "        exif_bytes = piexif.dump(exif_dict)\n",
        "        piexif.insert(exif_bytes, image_path)\n",
        "        print(f\"Ключевые слова '{keywords}' добавлены к метаданным EXIF.\")\n",
        "    except Exception as e:\n",
        "        print(f\"Произошла ошибка при добавлении ключевых слов к метаданным EXIF: {str(e)}\")\n",
        "\n",
        "def add_keywords_to_image_iptc(image_path, keywords):\n",
        "    try:\n",
        "        info = IPTCInfo(image_path)\n",
        "        existing_keywords = info['keywords']\n",
        "        keywords_utf8 = [keyword.decode('utf-8') if isinstance(keyword, bytes) else keyword for keyword in keywords]\n",
        "        existing_keywords_str = [kw.decode('utf-8') if isinstance(kw, bytes) else kw for kw in existing_keywords]\n",
        "        for keyword in keywords_utf8:\n",
        "            if keyword not in existing_keywords_str:\n",
        "                existing_keywords_str.append(keyword)\n",
        "        existing_keywords_bytes = [kw.encode('utf-8') if isinstance(kw, str) else kw for kw in existing_keywords_str]\n",
        "        info['keywords'] = existing_keywords_bytes\n",
        "        info.save()\n",
        "        print(f\"Ключевые слова '{keywords}' добавлены к метаданным IPTC.\")\n",
        "    except Exception as e:\n",
        "        print(f\"Произошла ошибка при добавлении ключевых слов к метаданным IPTC: {str(e)}\")\n",
        "\n",
        "def tag_images(filename, keywords, method):\n",
        "    tagged_images = []\n",
        "    try:\n",
        "        if method == 'XMP':\n",
        "            if filename.endswith(('.jpg', '.jpeg', '.png')):\n",
        "                add_keyword_xmp(filename, keywords)\n",
        "                tagged_images.append(filename)\n",
        "        elif method == 'EXIF':\n",
        "            if filename.endswith(('.jpg', '.jpeg', '.png')):\n",
        "                add_keywords_to_image_exif(filename, keywords)\n",
        "                tagged_images.append(filename)\n",
        "        elif method == 'IPTC':\n",
        "            if filename.endswith(('.jpg', '.jpeg', '.png')):\n",
        "                add_keywords_to_image_iptc(filename, keywords)\n",
        "                tagged_images.append(filename)\n",
        "        elif method == 'All':\n",
        "            for m in ['XMP', 'EXIF', 'IPTC']:\n",
        "                if filename.endswith(('.jpg', '.jpeg', '.png')):\n",
        "                    if m == 'XMP':\n",
        "                        add_keyword_xmp(filename, keywords)\n",
        "                    elif m == 'EXIF':\n",
        "                        add_keywords_to_image_exif(filename, keywords)\n",
        "                    elif m == 'IPTC':\n",
        "                        add_keywords_to_image_iptc(filename, keywords)\n",
        "                    tagged_images.append(filename)\n",
        "        else:\n",
        "            print(\"Выбран неверный метод.\")\n",
        "    except Exception as e:\n",
        "        print(f\"Ошибка: {e}\")\n",
        "\n",
        "def interactive_tagging():\n",
        "    file_upload = widgets.FileUpload(accept='image/*', multiple=False)\n",
        "    method_dropdown = widgets.Dropdown(options=['All', 'XMP', 'EXIF', 'IPTC'], description='Метод:')\n",
        "    keyword_text = widgets.Text(value='', description='Ключевые слова:')\n",
        "    button = widgets.Button(description=\"Добавить ключевые слова\")\n",
        "\n",
        "    output = widgets.Output()\n",
        "\n",
        "    def on_button_clicked(b):\n",
        "        with output:\n",
        "            clear_output()\n",
        "            if file_upload.value:\n",
        "                filename = list(file_upload.value.keys())[0]\n",
        "                file_info = file_upload.value[filename]\n",
        "                content = file_info['content']\n",
        "\n",
        "                # Сохранить загруженный файл\n",
        "                with open(filename, 'wb') as f:\n",
        "                    f.write(content)\n",
        "\n",
        "                method = method_dropdown.value\n",
        "                keywords = keyword_text.value.split(',')\n",
        "                tag_images(filename, keywords, method)\n",
        "            else:\n",
        "                print(\"Пожалуйста, загрузите файл изображения.\")\n",
        "\n",
        "    button.on_click(on_button_clicked)\n",
        "\n",
        "    display(file_upload)\n",
        "    display(method_dropdown)\n",
        "    display(keyword_text)\n",
        "    display(button)\n",
        "    display(output)\n",
        "\n",
        "interactive_tagging()\n"
      ],
      "metadata": {
        "colab": {
          "base_uri": "https://localhost:8080/",
          "height": 235,
          "referenced_widgets": [
            "d119f752d3a74f7980179c36b1fa33ea",
            "79605ce2dfc04e359c9d19740a56cb70",
            "22b87edd481c479e9e636e8877176b9f",
            "77ade9a4c6c7409fbc2e9e0a7849839f",
            "902dc5bf411945efb33d7b42c5f3f801",
            "288ef6aa3a9744919ed96e8f4c8bafcd",
            "71c4edc854a94ef885f4bf165cf9282c",
            "c308e64dc99b4c0f8b4a4fe189ef5ca6",
            "729e2f9124f941df902fcfacd692b7d1",
            "7dc6b54c7d2a44e3acf8549570866be9",
            "f4dba211f37a49d18f16299b278af867",
            "48f6f0556a3748c0bb0b65a5c332a984",
            "fc04820a6f4a43e78d5d70cf904b7d49",
            "43ebeaa4d7dc4e56a76fea5355ca174f"
          ]
        },
        "id": "a93BRosjQow9",
        "outputId": "0112a2db-ccd5-4817-cc4a-b0507bdceaa4"
      },
      "execution_count": 9,
      "outputs": [
        {
          "output_type": "display_data",
          "data": {
            "text/plain": [
              "FileUpload(value={}, accept='image/*', description='Upload')"
            ],
            "application/vnd.jupyter.widget-view+json": {
              "version_major": 2,
              "version_minor": 0,
              "model_id": "d119f752d3a74f7980179c36b1fa33ea"
            }
          },
          "metadata": {}
        },
        {
          "output_type": "display_data",
          "data": {
            "text/plain": [
              "Dropdown(description='Метод:', options=('All', 'XMP', 'EXIF', 'IPTC'), value='All')"
            ],
            "application/vnd.jupyter.widget-view+json": {
              "version_major": 2,
              "version_minor": 0,
              "model_id": "77ade9a4c6c7409fbc2e9e0a7849839f"
            }
          },
          "metadata": {}
        },
        {
          "output_type": "display_data",
          "data": {
            "text/plain": [
              "Text(value='', description='Ключевые слова:')"
            ],
            "application/vnd.jupyter.widget-view+json": {
              "version_major": 2,
              "version_minor": 0,
              "model_id": "71c4edc854a94ef885f4bf165cf9282c"
            }
          },
          "metadata": {}
        },
        {
          "output_type": "display_data",
          "data": {
            "text/plain": [
              "Button(description='Добавить ключевые слова', style=ButtonStyle())"
            ],
            "application/vnd.jupyter.widget-view+json": {
              "version_major": 2,
              "version_minor": 0,
              "model_id": "7dc6b54c7d2a44e3acf8549570866be9"
            }
          },
          "metadata": {}
        },
        {
          "output_type": "display_data",
          "data": {
            "text/plain": [
              "Output()"
            ],
            "application/vnd.jupyter.widget-view+json": {
              "version_major": 2,
              "version_minor": 0,
              "model_id": "fc04820a6f4a43e78d5d70cf904b7d49"
            }
          },
          "metadata": {}
        }
      ]
    },
    {
      "cell_type": "markdown",
      "source": [
        "### **для папки (много фото)**"
      ],
      "metadata": {
        "id": "8mRyZsH5eqDy"
      }
    },
    {
      "cell_type": "code",
      "source": [
        "def add_keyword_xmp(image_path, keyword_list):\n",
        "    try:\n",
        "        for keyword in keyword_list:\n",
        "            os.system(f'exiftool -XMP:Subject+=\"{keyword}\" \"{image_path}\"')\n",
        "            print(f\"Ключевое слово '{keyword}' добавлено к метаданным XMP {image_path}\")\n",
        "    except Exception as e:\n",
        "        print(f\"Ошибка при добавлении ключевого слова к метаданным XMP {image_path}: {str(e)}\")\n",
        "\n",
        "def add_keywords_to_image_exif(image_path, keywords):\n",
        "    try:\n",
        "        exif_dict = piexif.load(image_path)\n",
        "        existing_keywords = exif_dict[\"Exif\"].get(piexif.ExifIFD.UserComment, b\"\").decode()\n",
        "        existing_keywords_list = existing_keywords.split(\",\") if existing_keywords else ['ASCII    ']\n",
        "        existing_keywords_list.extend(keywords)\n",
        "        keyword_str = ''.join(existing_keywords_list[0]) + \",\".join(existing_keywords_list[1:])\n",
        "        exif_ifd = {piexif.ExifIFD.UserComment: f'{keyword_str}'.encode()}\n",
        "        exif_dict = {\"0th\": {}, \"Exif\": exif_ifd, \"1st\": {}, \"thumbnail\": None, \"GPS\": {}}\n",
        "        exif_bytes = piexif.dump(exif_dict)\n",
        "        piexif.insert(exif_bytes, image_path)\n",
        "        print(f\"Ключевые слова '{keywords}' добавлены к метаданным EXIF.\")\n",
        "    except Exception as e:\n",
        "        print(f\"Произошла ошибка при добавлении ключевых слов к метаданным EXIF: {str(e)}\")\n",
        "\n",
        "def add_keywords_to_image_iptc(image_path, keywords):\n",
        "    try:\n",
        "        info = IPTCInfo(image_path)\n",
        "        existing_keywords = info['keywords']\n",
        "        keywords_utf8 = [keyword.decode('utf-8') if isinstance(keyword, bytes) else keyword for keyword in keywords]\n",
        "        existing_keywords_str = [kw.decode('utf-8') if isinstance(kw, bytes) else kw for kw in existing_keywords]\n",
        "        for keyword in keywords_utf8:\n",
        "            if keyword not in existing_keywords_str:\n",
        "                existing_keywords_str.append(keyword)\n",
        "        existing_keywords_bytes = [kw.encode('utf-8') if isinstance(kw, str) else kw for kw in existing_keywords_str]\n",
        "        info['keywords'] = existing_keywords_bytes\n",
        "        info.save()\n",
        "        print(f\"Ключевые слова '{keywords}' добавлены к метаданным IPTC.\")\n",
        "    except Exception as e:\n",
        "        print(f\"Произошла ошибка при добавлении ключевых слов к метаданным IPTC: {str(e)}\")\n",
        "\n",
        "def tag_images_in_folder(folder_path, keywords, method):\n",
        "    tagged_images = []\n",
        "    try:\n",
        "        output_folder = os.path.join(folder_path, 'tagged')\n",
        "        os.makedirs(output_folder, exist_ok=True)\n",
        "        for filename in os.listdir(folder_path):\n",
        "            if filename.endswith(('.jpg', '.jpeg', '.png')):\n",
        "                file_path = os.path.join(folder_path, filename)\n",
        "                new_file_path = os.path.join(output_folder, filename)\n",
        "                shutil.copy2(file_path, new_file_path)\n",
        "                if method == 'XMP':\n",
        "                    add_keyword_xmp(new_file_path, keywords)\n",
        "                elif method == 'EXIF':\n",
        "                    add_keywords_to_image_exif(new_file_path, keywords)\n",
        "                elif method == 'IPTC':\n",
        "                    add_keywords_to_image_iptc(new_file_path, keywords)\n",
        "                elif method == 'All':\n",
        "                    add_keyword_xmp(new_file_path, keywords)\n",
        "                    add_keywords_to_image_exif(new_file_path, keywords)\n",
        "                    add_keywords_to_image_iptc(new_file_path, keywords)\n",
        "                tagged_images.append(new_file_path)\n",
        "\n",
        "        zip_filename = os.path.join(folder_path, 'tagged_images.zip')\n",
        "        with zipfile.ZipFile(zip_filename, 'w') as zipf:\n",
        "            for file in tagged_images:\n",
        "                zipf.write(file, os.path.basename(file))\n",
        "\n",
        "        print(f\"Обработка завершена. Обработано {len(tagged_images)} изображений.\")\n",
        "        print(f\"Файлы сохранены в архив: {zip_filename}\")\n",
        "    except Exception as e:\n",
        "        print(f\"Ошибка: {e}\")\n",
        "\n",
        "def interactive_tagging():\n",
        "    folder_text = widgets.Text(value='', description='Путь к папке:')\n",
        "    method_dropdown = widgets.Dropdown(options=['All', 'XMP', 'EXIF', 'IPTC'], description='Метод:')\n",
        "    keyword_text = widgets.Text(value='', description='Ключевые слова:')\n",
        "    button = widgets.Button(description=\"Добавить ключевые слова\")\n",
        "    output = widgets.Output()\n",
        "\n",
        "    def on_button_clicked(b):\n",
        "        with output:\n",
        "            clear_output()\n",
        "            folder_path = folder_text.value\n",
        "            method = method_dropdown.value\n",
        "            keywords = keyword_text.value.split(',')\n",
        "            if os.path.isdir(folder_path):\n",
        "                tag_images_in_folder(folder_path, keywords, method)\n",
        "            else:\n",
        "                print(\"Пожалуйста, введите корректный путь к папке.\")\n",
        "\n",
        "    button.on_click(on_button_clicked)\n",
        "\n",
        "    display(folder_text)\n",
        "    display(method_dropdown)\n",
        "    display(keyword_text)\n",
        "    display(button)\n",
        "    display(output)\n",
        "\n",
        "interactive_tagging()\n"
      ],
      "metadata": {
        "colab": {
          "base_uri": "https://localhost:8080/",
          "height": 233,
          "referenced_widgets": [
            "326e0b3f0551451c9041eac6fd17f1ad",
            "1a3a4ef17cd04999bc05d7a6da9212e8",
            "197269e06b714833a1bbefdecbe28cb8",
            "9bfb1bb2ea9041e28ec68cd747fd5bd7",
            "ea3de11c3bda4569bd6522423c1504d7",
            "9ea4d152f9ba4f11b69a870f973540c0",
            "5f2c98bcd04048d8acd5ff4bfed09164",
            "9c0c67b83c69443ea587fe752a99c43b",
            "af98ae20d2c2495d8c5b6386eb4fad26",
            "ec300e19966b4849a368995b424f18e8",
            "cf5db09418b84691a5adfb5af9c9e37d",
            "3f5509882cbd42078e9a89e5ec7a44cc",
            "56581985637c46aebaf14f4ea4d218db",
            "7dc7bc1d00f24dd4bfeacd88d44158de"
          ]
        },
        "id": "zNtx1IMRci8i",
        "outputId": "0011eec3-9654-4849-fb6a-9efd55e55a38"
      },
      "execution_count": 8,
      "outputs": [
        {
          "output_type": "display_data",
          "data": {
            "text/plain": [
              "Text(value='', description='Путь к папке:')"
            ],
            "application/vnd.jupyter.widget-view+json": {
              "version_major": 2,
              "version_minor": 0,
              "model_id": "326e0b3f0551451c9041eac6fd17f1ad"
            }
          },
          "metadata": {}
        },
        {
          "output_type": "display_data",
          "data": {
            "text/plain": [
              "Dropdown(description='Метод:', options=('All', 'XMP', 'EXIF', 'IPTC'), value='All')"
            ],
            "application/vnd.jupyter.widget-view+json": {
              "version_major": 2,
              "version_minor": 0,
              "model_id": "9bfb1bb2ea9041e28ec68cd747fd5bd7"
            }
          },
          "metadata": {}
        },
        {
          "output_type": "display_data",
          "data": {
            "text/plain": [
              "Text(value='', description='Ключевые слова:')"
            ],
            "application/vnd.jupyter.widget-view+json": {
              "version_major": 2,
              "version_minor": 0,
              "model_id": "5f2c98bcd04048d8acd5ff4bfed09164"
            }
          },
          "metadata": {}
        },
        {
          "output_type": "display_data",
          "data": {
            "text/plain": [
              "Button(description='Добавить ключевые слова', style=ButtonStyle())"
            ],
            "application/vnd.jupyter.widget-view+json": {
              "version_major": 2,
              "version_minor": 0,
              "model_id": "ec300e19966b4849a368995b424f18e8"
            }
          },
          "metadata": {}
        },
        {
          "output_type": "display_data",
          "data": {
            "text/plain": [
              "Output()"
            ],
            "application/vnd.jupyter.widget-view+json": {
              "version_major": 2,
              "version_minor": 0,
              "model_id": "56581985637c46aebaf14f4ea4d218db"
            }
          },
          "metadata": {}
        }
      ]
    }
  ]
}